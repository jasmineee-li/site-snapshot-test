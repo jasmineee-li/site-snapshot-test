{
 "cells": [
  {
   "cell_type": "code",
   "execution_count": 3,
   "id": "58086537",
   "metadata": {},
   "outputs": [
    {
     "name": "stdout",
     "output_type": "stream",
     "text": [
      "/Users/jasminexli/agentlab_results\n"
     ]
    }
   ],
   "source": [
    "from agentlab.experiments.exp_utils import RESULTS_DIR\n",
    "from agentlab.analyze import inspect_results\n",
    "from agentlab.experiments.study import get_most_recent_study\n",
    "print(RESULTS_DIR)"
   ]
  },
  {
   "cell_type": "code",
   "execution_count": 1,
   "id": "827a4b74",
   "metadata": {},
   "outputs": [],
   "source": [
    "from pathlib import Path\n",
    "import sys\n",
    "repo_src = Path(\"/Users/jasminexli/grayswan/site-snapshot-test/AgentLab/src\")\n",
    "if str(repo_src) not in sys.path:\n",
    "    sys.path.insert(0, str(repo_src))\n",
    "import agentlab.experiments.loop"
   ]
  },
  {
   "cell_type": "markdown",
   "id": "3603d2b7",
   "metadata": {},
   "source": [
    "### Load results\n",
    "find the most recent study and load all summary information in a result dataframe.\n",
    "\n",
    "The summary information contains the configuration of the environment, and the agents and various statistics about the experiment. It doesn't contain the details about the episode such as DOM or AXTree for faster loading."
   ]
  },
  {
   "cell_type": "code",
   "execution_count": 4,
   "id": "50be19a9",
   "metadata": {},
   "outputs": [
    {
     "name": "stdout",
     "output_type": "stream",
     "text": [
      "/Users/jasminexli/agentlab_results/2025-10-13_21-02-41_genericagent-gpt-5-nano-2025-08-07-on-miniwob-tiny-test\n"
     ]
    },
    {
     "name": "stderr",
     "output_type": "stream",
     "text": [
      "Searching experiments directories.: 100%|██████████| 4/4 [00:00<00:00, 3132.42it/s]\n",
      "Loading results:   0%|          | 0/4 [00:00<?, ?it/s]"
     ]
    },
    {
     "name": "stderr",
     "output_type": "stream",
     "text": [
      "/opt/anaconda3/envs/webarena/lib/python3.10/site-packages/tqdm/auto.py:21: TqdmWarning: IProgress not found. Please update jupyter and ipywidgets. See https://ipywidgets.readthedocs.io/en/stable/user_install.html\n",
      "  from .autonotebook import tqdm as notebook_tqdm\n",
      "Loading results: 100%|██████████| 4/4 [00:16<00:00,  4.18s/it]\n"
     ]
    }
   ],
   "source": [
    "# replace this by your desired directory if needed.\n",
    "result_dir = get_most_recent_study(RESULTS_DIR, contains=None)\n",
    "\n",
    "print(result_dir)\n",
    "result_df = inspect_results.load_result_df(result_dir)"
   ]
  },
  {
   "cell_type": "code",
   "execution_count": 5,
   "id": "a424c470",
   "metadata": {},
   "outputs": [
    {
     "name": "stdout",
     "output_type": "stream",
     "text": [
      "Found multiple configuration, averaging across tasks and returning a per-agent report.\n"
     ]
    },
    {
     "data": {
      "text/html": [
       "<style type=\"text/css\">\n",
       "#T_942eb th {\n",
       "  white-space: pre-wrap;\n",
       "}\n",
       "</style>\n",
       "<table id=\"T_942eb\">\n",
       "  <thead>\n",
       "    <tr>\n",
       "      <th class=\"blank level0\" >&nbsp;</th>\n",
       "      <th id=\"T_942eb_level0_col0\" class=\"col_heading level0 col0\" >agent.agent\n",
       "name</th>\n",
       "      <th id=\"T_942eb_level0_col1\" class=\"col_heading level0 col1\" >env.benchmark</th>\n",
       "      <th id=\"T_942eb_level0_col2\" class=\"col_heading level0 col2\" >avg\n",
       "reward</th>\n",
       "      <th id=\"T_942eb_level0_col3\" class=\"col_heading level0 col3\" >std\n",
       "err</th>\n",
       "      <th id=\"T_942eb_level0_col4\" class=\"col_heading level0 col4\" >avg\n",
       "steps</th>\n",
       "      <th id=\"T_942eb_level0_col5\" class=\"col_heading level0 col5\" >n\n",
       "completed</th>\n",
       "      <th id=\"T_942eb_level0_col6\" class=\"col_heading level0 col6\" >n\n",
       "err</th>\n",
       "      <th id=\"T_942eb_level0_col7\" class=\"col_heading level0 col7\" >cum\n",
       "cost</th>\n",
       "    </tr>\n",
       "  </thead>\n",
       "  <tbody>\n",
       "    <tr>\n",
       "      <th id=\"T_942eb_level0_row0\" class=\"row_heading level0 row0\" >0</th>\n",
       "      <td id=\"T_942eb_row0_col0\" class=\"data row0 col0\" >GenericAgent-gpt-5-nano-2025-08-07</td>\n",
       "      <td id=\"T_942eb_row0_col1\" class=\"data row0 col1\" >miniwob</td>\n",
       "      <td id=\"T_942eb_row0_col2\" class=\"data row0 col2\" >1</td>\n",
       "      <td id=\"T_942eb_row0_col3\" class=\"data row0 col3\" >0</td>\n",
       "      <td id=\"T_942eb_row0_col4\" class=\"data row0 col4\" >2.25</td>\n",
       "      <td id=\"T_942eb_row0_col5\" class=\"data row0 col5\" >4/4</td>\n",
       "      <td id=\"T_942eb_row0_col6\" class=\"data row0 col6\" >0</td>\n",
       "      <td id=\"T_942eb_row0_col7\" class=\"data row0 col7\" >0.0027</td>\n",
       "    </tr>\n",
       "  </tbody>\n",
       "</table>\n"
      ],
      "text/plain": [
       "<pandas.io.formats.style.Styler at 0x15fffbd00>"
      ]
     },
     "metadata": {},
     "output_type": "display_data"
    }
   ],
   "source": [
    "report = inspect_results.global_report(result_df)\n",
    "inspect_results.display_report(report)"
   ]
  },
  {
   "cell_type": "markdown",
   "id": "385559d7",
   "metadata": {},
   "source": [
    "### Print error report if any"
   ]
  },
  {
   "cell_type": "code",
   "execution_count": 6,
   "id": "b3e8c85b",
   "metadata": {},
   "outputs": [
    {
     "data": {
      "text/plain": [
       "''"
      ]
     },
     "execution_count": 6,
     "metadata": {},
     "output_type": "execute_result"
    }
   ],
   "source": [
    "inspect_results.error_report(result_df, max_stack_trace=2, use_log=True)"
   ]
  },
  {
   "cell_type": "markdown",
   "id": "d4d07197",
   "metadata": {},
   "source": [
    "### Loading an Episode"
   ]
  },
  {
   "cell_type": "code",
   "execution_count": 7,
   "id": "d203ed50",
   "metadata": {},
   "outputs": [
    {
     "name": "stdout",
     "output_type": "stream",
     "text": [
      "action: click('33')\n",
      "reward: 0.0\n",
      "AXTree: RootWebArea 'Click Checkboxes Task', focused\n",
      "\t[17] LabelText '', clickable, visible\n",
      "\t\t[18] checkbox 'UV', clickable, visible, checked='false'\n",
      "\t\tStaticText 'UV'\n",
      "\t[20] LabelText '', clickable, visible\n",
      "\t\t[21] checkbox 'tp', clickable, visible, checked='false'\n",
      "\t\tStaticText 'tp'\n",
      "\t[23] LabelText '', clickable, visible\n",
      "\t\t[24] checkbox 'bf', clickable, visible, checked='false'\n",
      "\t\tStaticText 'bf'\n",
      "\t[26] LabelText '', clickable, visible\n",
      "\t\t[27] checkbox 'Neb', clickable, visible, focused, checked='true'\n",
      "\t\tSt\n",
      "screenshot type: <class 'numpy.ndarray'>\n"
     ]
    },
    {
     "data": {
      "image/jpeg": "[encoded data removed]",
      "image/png": "[encoded data removed]",
      "text/plain": [
       "<PIL.Image.Image image mode=RGB size=498x321>"
      ]
     },
     "metadata": {},
     "output_type": "display_data"
    }
   ],
   "source": [
    "from agentlab.experiments.loop import ExpResult\n",
    "\n",
    "# lazy loader for all the information of on experiment (1 agent on 1 task)\n",
    "result = ExpResult(result_df.iloc[0].exp_dir)\n",
    "\n",
    "episode = result.steps_info\n",
    "print(f\"action: {episode[1].action}\")\n",
    "print(f\"reward: {episode[1].reward}\")\n",
    "print(f\"AXTree: {episode[1].obs['axtree_txt'][:500]}\")\n",
    "\n",
    "# formatted as an array\n",
    "print(f\"screenshot type: {type(episode[1].obs['screenshot'])}\")\n",
    "\n",
    "# loading from png\n",
    "display(result.get_screenshot(1))"
   ]
  },
  {
   "cell_type": "markdown",
   "id": "469d0f6f",
   "metadata": {},
   "source": [
    "### list keys in the observations dict"
   ]
  },
  {
   "cell_type": "code",
   "execution_count": 10,
   "id": "0024b925",
   "metadata": {},
   "outputs": [
    {
     "ename": "SyntaxError",
     "evalue": "f-string expression part cannot include a backslash (2405050158.py, line 3)",
     "output_type": "error",
     "traceback": [
      "\u001b[0;36m  Cell \u001b[0;32mIn[10], line 3\u001b[0;36m\u001b[0m\n\u001b[0;31m    print(f\"Obs Keys:\\n  {'\\n  '.join(list(episode[1].obs.keys()))}\")\u001b[0m\n\u001b[0m                                                                    ^\u001b[0m\n\u001b[0;31mSyntaxError\u001b[0m\u001b[0;31m:\u001b[0m f-string expression part cannot include a backslash\n"
     ]
    }
   ],
   "source": [
    "import json\n",
    "\n",
    "print(f\"Obs Keys:\\n  {'\\n  '.join(list(episode[1].obs.keys()))}\")"
   ]
  },
  {
   "cell_type": "markdown",
   "id": "be6f5e6a",
   "metadata": {},
   "source": [
    "## extra_elements_properties\n",
    "contains a dictionnary for the bounding box and visible properties of each elements in the page"
   ]
  },
  {
   "cell_type": "code",
   "execution_count": 9,
   "id": "ea120a68",
   "metadata": {},
   "outputs": [
    {
     "ename": "NameError",
     "evalue": "name 'json' is not defined",
     "output_type": "error",
     "traceback": [
      "\u001b[0;31m---------------------------------------------------------------------------\u001b[0m",
      "\u001b[0;31mNameError\u001b[0m                                 Traceback (most recent call last)",
      "Cell \u001b[0;32mIn[9], line 1\u001b[0m\n\u001b[0;32m----> 1\u001b[0m extra_properties \u001b[38;5;241m=\u001b[39m \u001b[43mjson\u001b[49m\u001b[38;5;241m.\u001b[39mdumps(episode[\u001b[38;5;241m1\u001b[39m]\u001b[38;5;241m.\u001b[39mobs[\u001b[38;5;124m\"\u001b[39m\u001b[38;5;124mextra_element_properties\u001b[39m\u001b[38;5;124m\"\u001b[39m], indent\u001b[38;5;241m=\u001b[39m\u001b[38;5;241m2\u001b[39m)\n\u001b[1;32m      2\u001b[0m \u001b[38;5;28mprint\u001b[39m(extra_properties)\n",
      "\u001b[0;31mNameError\u001b[0m: name 'json' is not defined"
     ]
    }
   ],
   "source": [
    "extra_properties = json.dumps(episode[1].obs[\"extra_element_properties\"], indent=2)\n",
    "print(extra_properties)"
   ]
  },
  {
   "cell_type": "code",
   "execution_count": null,
   "id": "a7761e10",
   "metadata": {},
   "outputs": [],
   "source": []
  }
 ],
 "metadata": {
  "kernelspec": {
   "display_name": "webarena",
   "language": "python",
   "name": "python3"
  },
  "language_info": {
   "codemirror_mode": {
    "name": "ipython",
    "version": 3
   },
   "file_extension": ".py",
   "mimetype": "text/x-python",
   "name": "python",
   "nbconvert_exporter": "python",
   "pygments_lexer": "ipython3",
   "version": "3.10.19"
  }
 },
 "nbformat": 4,
 "nbformat_minor": 5
}
